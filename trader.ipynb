{
 "cells": [
  {
   "cell_type": "code",
   "execution_count": 6,
   "metadata": {},
   "outputs": [
    {
     "name": "stdout",
     "output_type": "stream",
     "text": [
      "Account Status: ACTIVE\n",
      "Buying Power: 0\n"
     ]
    }
   ],
   "source": [
    "import alpaca_trade_api as tradeapi\n",
    "import pandas as pd \n",
    "import numpy as np\n",
    "import matplotlib.pyplot as plt\n",
    "import yfinance as yf\n",
    "import requests\n",
    "from keys import *\n",
    "\n",
    "\n",
    "# Implementing my API keys from Alpaca\n",
    "API_KEY = api_key\n",
    "API_SECRET = api_secret\n",
    "BASE_URL = endpoint\n",
    "\n",
    "# Create an Alpaca API connection\n",
    "api = tradeapi.REST(API_KEY, API_SECRET, base_url=BASE_URL, api_version='v2')\n",
    "\n",
    "# Get account information\n",
    "account = api.get_account()\n",
    "print(f\"Account Status: {account.status}\")\n",
    "print(f\"Buying Power: {account.buying_power}\")"
   ]
  }
 ],
 "metadata": {
  "kernelspec": {
   "display_name": "trading_env",
   "language": "python",
   "name": "python3"
  },
  "language_info": {
   "codemirror_mode": {
    "name": "ipython",
    "version": 3
   },
   "file_extension": ".py",
   "mimetype": "text/x-python",
   "name": "python",
   "nbconvert_exporter": "python",
   "pygments_lexer": "ipython3",
   "version": "3.11.3"
  },
  "orig_nbformat": 4
 },
 "nbformat": 4,
 "nbformat_minor": 2
}
